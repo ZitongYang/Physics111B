{
 "cells": [
  {
   "cell_type": "markdown",
   "metadata": {},
   "source": [
    "Type your name and student ID here before submitting"
   ]
  },
  {
   "cell_type": "markdown",
   "metadata": {},
   "source": [
    "## EAX - Error Analysis Exercise"
   ]
  },
  {
   "cell_type": "markdown",
   "metadata": {},
   "source": [
    "### Note\n",
    "\n",
    "All new Physics 111 Advanced Lab students are required to complete this assignment at the beginning of the semester. It will be graded on 50 points basis; a late turn-in is allowed only with the instructor's approval before the due date. Don't jeopardize your grade on your first experiment by being late with this assignment. You need to know how to handle errors before you start a laboratory experiment.\n",
    "\n",
    "Important: View the <a href=\"http://youtu.be/jR54387Wd6c\">video introduction to error analysis</a> (you need to use your Berkeley email to access this). The Error Analysis Exercise due date is listed under <a href=\"http://experimentationlab.berkeley.edu/syllabus#Experimentation_Lab_Experiments_and_Due_Dates\">Advanced Lab Report Due Dates</a>."
   ]
  },
  {
   "cell_type": "markdown",
   "metadata": {},
   "source": [
    "### References\n",
    "\n",
    "<p>[<a class=\"external text\" href=\"http://physics111.lib.berkeley.edu/Physics111/Reprints/Data%20Analysis%20Book%20PDF/Data%20Analysis%20Book%20PDF_index.html\" rel=\"nofollow\" title=\"http://physics111.lib.berkeley.edu/Physics111/Reprints/Data%20Analysis%20Book%20PDF/\">Books available online with UC Berkeley authentication</a>]</p>\n",
    "<ol><li>P. Bevington, <a href=\"http://physics111.lib.berkeley.edu/Physics111/Reprints/Data%20Analysis%20Book%20PDF/Bevington-Copy.pdf\">\"<strong>Data Reduction and Error Analysis for the Physical Sciences\",</strong></a> McGraw-Hill. [An old standard that is pretty dry but straightforward. Chapter 5 is particularly important.]</li>\n",
    "<li>A. C. Melissinos and J. Napolitano, [<a class=\"external text\" href=\"http://physics111.lib.berkeley.edu/Physics111/Reprints/Experiments%20in%20Modern%20Physics%202nd%20Edition/Error%20Analysis%20elements%20from%20the%20theory%20of%20statistics.pdf\" rel=\"nofollow\" title=\"http://physics111.lib.berkeley.edu/Physics111/Reprints/Experiments%20in%20Modern%20Physics%202nd%20Edition/Error%20Analysis%20elements%20from%20the%20theory%20of%20statistics.pdf\">\"<strong>Experiments in Modern Physics, 2nd Edition\"</strong></a>], Academic Press (2003).</li>\n",
    "<li>W. H. Press, et al., [<a class=\"external text\" href=\"http://physics111.lib.berkeley.edu/Physics111/Reprints/Numerical%20Recipes%20in%20C/Numerical%20Recipes%20in%20C_index.html\" rel=\"nofollow\" title=\"http://physics111.lib.berkeley.edu/Physics111/Reprints/Numerical%20Recipes%20in%20C/\">\"<strong>Numerical Recipes in C</strong>:</a>] The Art of Scientific Computing, 2nd Edition\", Cambridge University Press (1992); refer to Ch. 14—\"Modeling of Data\". [The Numerical Recipes in Pascal or FORTRAN books contain identical information. This book is the standard reference for doing scientific work on computers. Chapter 14 has a good introduction to the method of maximum likelihood, chi–square fitting, modeling data in general, error estimates of fit parameters, and, important for later experiments, the Monte Carlo method of simulation.]</li>\n",
    "<li>I. G. Hughes and T. P. A. Hase, <strong><a href=\"http://physics111.lib.berkeley.edu/Physics111/Reprints/Data%20Analysis%20Book%20PDF/Measurements-n-Uncertainties.pdf\">Measurements and their Uncertainties</a></strong>, Oxford University Press (2010). [This is a well-written thin book that covers many basic concepts of statistics, extremely useful for this course.]</li>\n",
    "<li>Louis Lyons, \"<strong><a href=\"http://physics111.lib.berkeley.edu/Physics111/Reprints/Data%20Analysis%20Book%20PDF/Error%20Analysis%20Book-Louis%20Lyons.pdf\">A Practical Guide to Data Analysis for Physical Science Students\"</a></strong>  (1991) Cambridge Press; QC33.L9 1991</li>\n",
    "<li>Yardley Beers, <a href=\"http://physics111.lib.berkeley.edu/Physics111/Reprints/Data%20Analysis%20Book%20PDF/Error%20Analysis%20-%20Beers_Theory%20of%20Error.pdf\">\"<strong>Introduction to the Theory of Error\"</strong>;</a> ADDISON-WESLEY PUBLISHING (1957) QA275 B4 1957;</li>\n",
    "</ol>\n",
    "\n",
    "<p><span style=\"font-size:16px\">Reprints and other information can be found on the <a href=\"http://physics111.lib.berkeley.edu/Physics111/\">Physics 111 Library Site.</a></span></p>"
   ]
  },
  {
   "cell_type": "markdown",
   "metadata": {},
   "source": [
    "### Introduction\n",
    "\n",
    "<p>In the 111-lab, the experiment does not end when you have finished collecting your data. In many labs, you will be required to perform a detailed analysis of the data you have acquired. The point of any scientific experiment is to make quantitative statements about the properties of the physical world. A common question is, are your measurements consistent with a particular theory or not? This question can only be answered by careful analysis, including both systematic uncertainties and statistical error.</p>\n",
    "<p>The goals of this exercise are twofold. One is to familiarize students with the basics of error analysis. Ideally, this will serve as a guide during the acquisition and analysis of data throughout the advanced lab. The second goal is to introduce students to the Matlab numerical computing environment, which you will be using throughout the semester.</p>\n",
    "<p>Before starting on EAX, please look over either the Python Tutorials <a href=\"https://github.com/avirukt/intro_python\">https://github.com/avirukt/intro_python</a> or the<a href=\"/matlabintro\"> </a><a href=\"/matlabintro\" title=\"Intro to Matlab\">Intro to </a><a href=\"/matlabintro\">Matlab</a> section.  Additional resources for using Python are <a href=\"http://pythontutor.com/\">http://pythontutor.com/</a> and <a href=\"https://datahub.berkeley.edu/\">https://datahub.berkeley.edu/</a></p>"
   ]
  },
  {
   "cell_type": "markdown",
   "metadata": {},
   "source": [
    "### Problem Set\n",
    "\n",
    "#### Problem 1 \n",
    "\n",
    "We want to measure the activity (number of decays per second, a unit known as Becquerel) of a radioactive source so that we can use it to calibrate the equipment of the gamma-ray experiment. We use an electronic counter and a timer to measure the number of decays in a given time interval. In round numbers we obtain 6000 decays in 5 minutes. How long does it take (in seconds) in order to determine the activity with a statistical uncertainty of 2.0%? Explain.\n",
    "\n",
    "Enter the calculation in the cell below. Add a \"Markdown\" cell to explain your calculation"
   ]
  },
  {
   "cell_type": "code",
   "execution_count": null,
   "metadata": {},
   "outputs": [],
   "source": []
  },
  {
   "cell_type": "markdown",
   "metadata": {},
   "source": [
    "#### Problem 2\n",
    "\n",
    "You are given the measurements of two sides of a rectangle $A$ and $B$</span> with the associate errors $\\sigma_A$and $\\sigma_B$ respectively. Calculate the error in the\n",
    "<p>(a) sum $A+B$</p>\n",
    "<p>(b) difference $A-B$</p>\n",
    "<p>(c) the perimeter $2A+2B$</p>\n",
    "<p>(d) the area $A\\times B$</p>\n",
    "<p>(e) the aspect ratio $A/B$</p>\n",
    "<p>Show the detail of your calculation.</p>\n",
    "\n",
    "Write down the calculation in the \"Markdown\" cell below"
   ]
  },
  {
   "cell_type": "markdown",
   "metadata": {},
   "source": []
  },
  {
   "cell_type": "markdown",
   "metadata": {},
   "source": [
    "#### Problem 3\n",
    "\n",
    "In this problem we will be generating and analyzing lists of normally distributed random numbers. The distribution we are sampling has the true mean of $\\mu=0$ and the standard deviation $\\sigma=5$.</p>\n",
    "<ol><li>If we sample this distribution $N = 8$ times, what do we expect the mean to be? How about the standard deviation? What is the uncertainty with which the mean is determined? </li>\n",
    "<li>Using Python, generate a list of $N = 8$ normally distributed random numbers. Calculate the mean, standard deviation and the error on the mean. Is this what you expected?</li>\n",
    "<li>Now find the means, standard deviations, and uncertainties on the means for each of $M = 1000$ experiments, each with $N = 8$ measurements. Plot a histogram of the means from each experiment. How many experiments are compatible with the true mean of 0, i.e. the mean deviates less than the uncertainty of the mean? How many of the means are within 2 times the uncertainty? Is this what you expected? Compare the uncertainty in the means to the standard deviation of the means. This is why one often says that an estimate is within one or two standard deviations.</li>\n",
    "<li>Now repeat questions 1-3 for N = 20, 40, 80, 800.</li>\n",
    "    "
   ]
  },
  {
   "cell_type": "code",
   "execution_count": null,
   "metadata": {},
   "outputs": [],
   "source": []
  },
  {
   "cell_type": "markdown",
   "metadata": {},
   "source": [
    "#### Problem 4\n",
    "\n",
    "In this problem we will repeat the above process, but now using lists of exponentially distributed random numbers. The probability of selecting a random positive (x&gt;0) number between x and x+dx is <span class=\"math-tex\">$\\propto\\ e^{-x}dx$</span>.</p>\n",
    "<ol><li>What do you expect the mean of the distribution to be? What do you expect the standard deviation to be? (Note: The standard deviation is defined exactly as it is for a normal distribution, but the \"1 standard deviation = 68%\" rule no longer applies to an exponential distribution). What do you expect the error in the mean for an experiment with N = 250 random samples to be? Given M = 500 experiments with N = 250 random numbers, what do you expect the distribution of <em>means</em> to look like? What is the uncertainty on the mean determined from the M = 500 experiments?</li>\n",
    "<li>Make a list of N = 250 exponentially distributed random numbers (Hint: this can be done starting with a uniform distribution of random numbers, or using commands in your programming language of choice). Calculate the mean and standard deviation.</li>\n",
    "<li>Make M = 500 lists of N = 250 exponentially distributed random numbers. Make a histogram of the <em>means</em>. Does the distribution of means look as you thought? What is the standard deviation of the <em>means</em>. Does this agree with what you thought?</li>\n",
    "<li>Repeat the previous steps for N = 2500 &amp; 50000. Does the error on the mean scale as you thought?</li>\n",
    "</ol><p> </p>\n",
    "<p>This is a demonstration of the Central Limit Theorem.</p>"
   ]
  },
  {
   "cell_type": "code",
   "execution_count": null,
   "metadata": {},
   "outputs": [],
   "source": []
  },
  {
   "cell_type": "markdown",
   "metadata": {},
   "source": [
    "#### Problem 5\n",
    "\n",
    "You are given a dataset (`Peak.dat` file in this directory, or download and unzip the file from <a href=\"http://experimentationlab.berkeley.edu/sites/default/files/EAX/Peak.zip\">(Peak.zip)</a>) from a gamma-ray experiment consisting of ~1000 hits. For each hit, the energy of the gamma-ray is recorded. We will assume that the energies are randomly distributed about a common mean, and that each hit is uncorrelated to others. Read the dataset from the enclosed file and:</p>\n",
    "<ol><li>Produce a histogram of the distribution of energies. Choose the number of bins wisely, i.e. so that the width of each bin is smaller than the width of the peak, and at the same time so that the number of entries in the most populated bin is relatively large. Since this plot represents randomly-collected data, plotting error bars would be appropriate (<em>hint</em>: use <em>errorbar</em> function in Matplotlib)</li>\n",
    "<li>Compute the mean and standard deviation of the distribution of energies and their statistical uncertainties</li>\n",
    "<li>Fit the distribution to a Gaussian function, and compare the parameters of the fitted Gaussian with the mean and standard deviation computed above</li>\n",
    "<li>How consistent is the distribution with a Gaussian? In other words, compare the histogram from <strong>(1)</strong> to the fitted curve, and compute a <em>goodness-of-fit</em> value, such as the reduced chi-square <span style=\"font-family:serif\">χ<sup>2</sup> / <em>d</em><em>f</em></span></li>"
   ]
  },
  {
   "cell_type": "code",
   "execution_count": null,
   "metadata": {},
   "outputs": [],
   "source": []
  },
  {
   "cell_type": "markdown",
   "metadata": {},
   "source": [
    "#### Problem 6\n",
    "\n",
    "In the optical pumping experiment (OPT) we measure the resonant frequency of a Zeeman transition as a function of the applied current (local magnetic field). Consider a mock data set:\n",
    "<table align=\"center\" border=\"1\"><tbody><tr><td>Current <span class=\"math-tex\">$I$</span> (Amps)</td>\n",
    "<td>0.0</td>\n",
    "<td>0.2</td>\n",
    "<td>0.4</td>\n",
    "<td>0.6</td>\n",
    "<td>0.8</td>\n",
    "<td>1.0</td>\n",
    "<td>1.2</td>\n",
    "<td>1.4</td>\n",
    "<td>1.6</td>\n",
    "<td>1.8</td>\n",
    "<td>2.0</td>\n",
    "<td>2.2</td>\n",
    "</tr><tr><td>Frequency <span class=\"math-tex\">$f$</span> (MHz)</td>\n",
    "<td>0.13</td>\n",
    "<td>0.62</td>\n",
    "<td>1.20</td>\n",
    "<td>1.92</td>\n",
    "<td>2.47</td>\n",
    "<td>3.27</td>\n",
    "<td>3.53</td>\n",
    "<td>4.38</td>\n",
    "<td>4.40</td>\n",
    "<td>5.42</td>\n",
    "<td>6.11</td>\n",
    "<td>6.90</td>\n",
    "</tr></tbody></table><ol><li>Plot a graph of the pairs of values. Assuming a linear relationship between <span class=\"math-tex\">$I$</span> and <span class=\"math-tex\">$f$</span>, determine the slope and the intercept of the best-fit line using the least-squares method with equal weights, and draw the best-fit line through the data points in the graph.</li>\n",
    "<li>From what your lab partner knows about the equipment used to measure the resonant frequency, they hastily estimate the uncertainty in the measurement of <span class=\"math-tex\">$f$</span> to be <span class=\"math-tex\">$\\sigma_f$</span><span style=\"font-family:serif\"> = 0.028</span> MHz. Estimate the probability that the straight line you found is an adequate description of the observed data if it is distributed with the uncertainty guessed by your lab partner. (Use Matlab to calculate it or look it up in a table. For example, see table C-4 in Bevington). What can you conclude from these results? Repeat the analysis assuming your partner estimated the uncertainty to be <span class=\"math-tex\">$\\sigma_f$</span><span style=\"font-family:serif\"> = 0.20</span> MHz. What can you conclude from these results?</li>\n",
    "<li>Assume that the best-fit line found in the previous exercise is a good fit to the data. Estimate the uncertainty in measurement of <span class=\"math-tex\">$y$</span> from the scatter of the observed data about this line. Again, assume that all the data points have equal weight. Use this to estimate the uncertainty in both the slope and the intercept of the best-fit line. This is the technique you will use in the Optical Pumping lab to determine the uncertainties in the fit parameters.</li>\n",
    "<li>Now assume that the uncertainty in each value of <span class=\"math-tex\">$f$</span> grows with <span class=\"math-tex\">$f$</span>: <span class=\"math-tex\">$\\sigma_f$</span><span style=\"font-family:serif\"><sub> </sub>= 0.06 + 0.05 * <em>f</em></span> (MHz). Determine the slope and the intercept of the best-fit line using the least-squares method with unequal weights (<em>weighted </em>least-squares fit)</li>"
   ]
  },
  {
   "cell_type": "code",
   "execution_count": null,
   "metadata": {},
   "outputs": [],
   "source": []
  },
  {
   "cell_type": "markdown",
   "metadata": {},
   "source": [
    "#### Problem 7\n",
    "\n",
    "<li>In the muon lifetime experiment we obtain a histogram for the decay rate as a function of the time after the muon enters the detector and announces its presence. We expect the distribution (the histogram) to be described by an exponential function. Rather than fitting with an exponential function, it is more convenient to plot the logarithm of the decay rate as a function of time and then fit a straight line to it. Since each data point ($x_i,y_i$) has a statistical error, $\\sigma_i$, associated with it, qualitatively, what happens to these errors when the semi-log histogram $(x_i,\\log{y_i})$ is plotted? Explain and illustrate. what happens, quantitatively? Assume $y_i$ is reasonably large.</li>\n",
    "<li>In a separate experiment, you find that $log E_0 = 1.6 \\pm 0.6$ (at 68% confidence level, CL). What is the value of $E_0$ and the experimental bounds at 68% CL? (Note that 0.6 is not small compared to 1.6).</li> "
   ]
  },
  {
   "cell_type": "code",
   "execution_count": null,
   "metadata": {},
   "outputs": [],
   "source": []
  }
 ],
 "metadata": {
  "kernelspec": {
   "display_name": "Python 3",
   "language": "python",
   "name": "python3"
  },
  "language_info": {
   "codemirror_mode": {
    "name": "ipython",
    "version": 3
   },
   "file_extension": ".py",
   "mimetype": "text/x-python",
   "name": "python",
   "nbconvert_exporter": "python",
   "pygments_lexer": "ipython3",
   "version": "3.6.9"
  }
 },
 "nbformat": 4,
 "nbformat_minor": 4
}
